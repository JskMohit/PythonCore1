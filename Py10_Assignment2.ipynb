{
 "cells": [
  {
   "cell_type": "code",
   "execution_count": 1,
   "metadata": {},
   "outputs": [
    {
     "data": {
      "text/plain": [
       "213"
      ]
     },
     "execution_count": 1,
     "metadata": {},
     "output_type": "execute_result"
    }
   ],
   "source": [
    "'''\n",
    "Task 1:\n",
    "\n",
    "1.1\n",
    "\n",
    "Write a Python Program to implement your own myreduce() function which works exactly like\n",
    "Python's built-in function reduce()\n",
    "\n",
    "'''\n",
    "\n",
    "#Solution \n",
    "mylst=[10,21,30,41,50,61]\n",
    "\n",
    "def mysum(a,b):\n",
    "    return a+b\n",
    "\n",
    "\n",
    "def myreduce(funobj, lst):\n",
    "    result=0\n",
    "    for i in lst:\n",
    "        result = funobj(result, i)\n",
    "    return result\n",
    "        \n",
    "#call myreduce\n",
    "myreduce(mysum,mylst)"
   ]
  },
  {
   "cell_type": "code",
   "execution_count": 2,
   "metadata": {},
   "outputs": [
    {
     "data": {
      "text/plain": [
       "[10, 30, 50]"
      ]
     },
     "execution_count": 2,
     "metadata": {},
     "output_type": "execute_result"
    }
   ],
   "source": [
    "'''\n",
    "1.2\n",
    "\n",
    "Write a Python program to implement your own myfilter() function which works exactly like\n",
    "Python's built-in function filter()\n",
    "\n",
    "'''\n",
    "#Solution\n",
    "mylst1=[10,21,30,41,50,6]\n",
    "\n",
    "def ismultiple(num):\n",
    "    if num%5==0:\n",
    "        return True\n",
    "    else:\n",
    "        return False\n",
    "    \n",
    "\n",
    "def pfilter(funobj,lst):\n",
    "    rlst=[]\n",
    "    for i in lst:\n",
    "        if funobj(i):\n",
    "           rlst.append(i)\n",
    "    \n",
    "    return rlst      \n",
    "    \n",
    "#call pfilter\n",
    "list(pfilter(ismultiple,mylst1))"
   ]
  },
  {
   "cell_type": "code",
   "execution_count": 3,
   "metadata": {},
   "outputs": [
    {
     "data": {
      "text/plain": [
       "['A', 'C', 'A', 'D', 'G', 'I', 'L', 'D']"
      ]
     },
     "execution_count": 3,
     "metadata": {},
     "output_type": "execute_result"
    }
   ],
   "source": [
    "'''\n",
    "2.\n",
    "\n",
    "Implement List comprehensions to produce the following lists.\n",
    "\n",
    "Write List comprehensions to produce the following Lists\n",
    "\n",
    "a. ['A', 'C', 'A', 'D', 'G', 'I', ’L’, ‘ D’]\n",
    "b. ['x', 'xx', 'xxx', 'xxxx', 'y', 'yy', 'yyy', 'yyyy', 'z', 'zz', 'zzz', 'zzzz']\n",
    "c. ['x', 'y', 'z', 'xx', 'yy', 'zz', 'xxxx', 'yyyy', 'zzzz']\n",
    "d. [[2], [3], [4], [3], [4], [5], [4], [5], [6]]\n",
    "e. [[2, 3, 4, 5], [3, 4, 5, 6], [4, 5, 6, 7], [5, 6, 7, 8]]\n",
    "f. [(1, 1), (2, 1), (3, 1), (1, 2), (2, 2), (3, 2), (1, 3), (2, 3), (3, 3)]\n",
    "\n",
    "'''\n",
    "#Ans 2 (a.)\n",
    "mystr1=\"ACADGILD\"\n",
    "[i for i in mystr1]"
   ]
  },
  {
   "cell_type": "code",
   "execution_count": 4,
   "metadata": {},
   "outputs": [
    {
     "data": {
      "text/plain": [
       "['x', 'xx', 'xxx', 'xxxx', 'y', 'yy', 'yyy', 'yyyy', 'z', 'zz', 'zzz', 'zzzz']"
      ]
     },
     "execution_count": 4,
     "metadata": {},
     "output_type": "execute_result"
    }
   ],
   "source": [
    "#(b.)\n",
    "\n",
    "[i*j  for i in ['x','y','z'] for j in range(1,5)]"
   ]
  },
  {
   "cell_type": "code",
   "execution_count": 5,
   "metadata": {},
   "outputs": [
    {
     "data": {
      "text/plain": [
       "['x', 'y', 'z', 'xx', 'yy', 'zz', 'xxx', 'yyy', 'zzz', 'xxxx', 'yyyy', 'zzzz']"
      ]
     },
     "execution_count": 5,
     "metadata": {},
     "output_type": "execute_result"
    }
   ],
   "source": [
    "#(c.)\n",
    "[j*i for i in range(1,5) for j in ['x','y','z']]"
   ]
  },
  {
   "cell_type": "code",
   "execution_count": 6,
   "metadata": {},
   "outputs": [
    {
     "data": {
      "text/plain": [
       "[[2], [3], [4], [3], [4], [5], [4], [5], [6]]"
      ]
     },
     "execution_count": 6,
     "metadata": {},
     "output_type": "execute_result"
    }
   ],
   "source": [
    "#(d.)\n",
    "[ [i+j] for i in range(2,5) for j in range(3)]"
   ]
  },
  {
   "cell_type": "code",
   "execution_count": 7,
   "metadata": {},
   "outputs": [
    {
     "data": {
      "text/plain": [
       "[[2, 3, 4, 5], [3, 4, 5, 6], [4, 5, 6, 7], [5, 6, 7, 8]]"
      ]
     },
     "execution_count": 7,
     "metadata": {},
     "output_type": "execute_result"
    }
   ],
   "source": [
    "#(e.)\n",
    "inp=[1,2,3,4,5,6,7,8]\n",
    "[ inp[i-1:i+3] for i in inp[1:5]]"
   ]
  },
  {
   "cell_type": "code",
   "execution_count": 8,
   "metadata": {},
   "outputs": [
    {
     "data": {
      "text/plain": [
       "[(1, 1), (2, 1), (3, 1), (1, 2), (2, 2), (3, 2), (1, 3), (2, 3), (3, 3)]"
      ]
     },
     "execution_count": 8,
     "metadata": {},
     "output_type": "execute_result"
    }
   ],
   "source": [
    "#(f.)\n",
    "[(j,i) for i in range(1,4) for j in range(1,4)]"
   ]
  },
  {
   "cell_type": "code",
   "execution_count": 9,
   "metadata": {},
   "outputs": [
    {
     "name": "stdout",
     "output_type": "stream",
     "text": [
      "Longest word in list ['Hi', 'Madan,', 'you', 'are', 'just', 'a', 'learner'] is: learner\n",
      "List is empty\n",
      "\n"
     ]
    }
   ],
   "source": [
    "'''\n",
    "3.\n",
    "\n",
    "Implement a function longestWord() that takes a list of words and returns the longest one.\n",
    "\n",
    "'''\n",
    "\n",
    "#Solution 3:\n",
    "def longestword(listofwords):\n",
    "    longword=\"\"\n",
    "    if len(listofwords) > 0:\n",
    "        maxlen=len(listofwords[0])\n",
    "        for i in listofwords:\n",
    "            if len(i) > maxlen:\n",
    "                longword = i\n",
    "        #print(longword)\n",
    "    else: \n",
    "        print(\"List is empty\")\n",
    "        \n",
    "    return longword\n",
    "\n",
    "#Calling findlongestword\n",
    "mystr= \"Hi Madan, you are just a learner\"\n",
    "print(\"Longest word in list {0} is: {1}\".format(mystr.split(),longestword(mystr.split())))\n",
    "print(longestword(\"     \".split()))"
   ]
  },
  {
   "cell_type": "code",
   "execution_count": 10,
   "metadata": {},
   "outputs": [
    {
     "name": "stdout",
     "output_type": "stream",
     "text": [
      "Enter side a: 10\n",
      "Enter side b: 15\n",
      "Enter side c: 20\n",
      "Area of triangle having different side is:  72.61843774138907\n"
     ]
    }
   ],
   "source": [
    "'''\n",
    "Task 2:\n",
    "\n",
    "1.1\n",
    "\n",
    "Write a Python Program(with class concepts) to find the area of the triangle using the below\n",
    "formula.\n",
    "area = (s*(s-a)*(s-b)*(s-c)) ** 0.5\n",
    "\n",
    "Function to take the length of the sides of triangle from user should be defined in the parent\n",
    "class and function to calculate the area should be defined in subclass.\n",
    "\n",
    "'''\n",
    "\n",
    "#Solution 1.1:\n",
    "\n",
    "class shape:\n",
    "    def setsides(self):\n",
    "        self.side_a = float(input(\"Enter side a: \"))\n",
    "        self.side_b = float(input(\"Enter side b: \"))\n",
    "        self.side_c = float(input(\"Enter side c: \"))\n",
    "        #self.side_a= side_a\n",
    "        #self.side_b = side_b\n",
    "        #self.side_c = side_c\n",
    "    \n",
    "    def view(self):\n",
    "        print(\"Sides are: \",self.a , self.b, self.c)\n",
    "\n",
    "class triangle(shape):\n",
    "    def __init__(self):\n",
    "        pass\n",
    "    \n",
    "    def area(self):\n",
    "        self.side = (self.side_a +self.side_b+ self.side_c)/2\n",
    "        s=self.side\n",
    "        #print(self.side, self.side_a, self.side_b, self.side_c, s, (s-self.side_a), (s-self.side_b), (s-self.side_c))\n",
    "        self.area = (s*(s-self.side_a)*(s - self.side_b)*(s - self.side_c))**0.5\n",
    "        print(\"Area of triangle having different side is: \", self.area)\n",
    "\n",
    "\n",
    "#calling area function using child class object\n",
    "p=triangle()\n",
    "p.setsides()\n",
    "p.area()"
   ]
  },
  {
   "cell_type": "code",
   "execution_count": 11,
   "metadata": {},
   "outputs": [
    {
     "name": "stdout",
     "output_type": "stream",
     "text": [
      "Enter maxlength: 6\n",
      "List of words having length greater than 6 is ['super-cool', 'language', 'compared', 'languages']\n"
     ]
    }
   ],
   "source": [
    "'''\n",
    "1.2\n",
    "\n",
    "Write a function filter_long_words() that takes a list of words and an integer n and returns the list\n",
    "of words that are longer than n.\n",
    "\n",
    "'''\n",
    "#Solution 1.2:\n",
    "\n",
    "def filter_long_words(listofwords, maxlength):\n",
    "    maxwords=[]\n",
    "    for i in listofwords:\n",
    "        if len(i)>0 and len(i) > maxlength:\n",
    "            maxwords.append(i)\n",
    "\n",
    "    return maxwords    \n",
    "\n",
    "\n",
    "#calling filter_long_words than a given length:\n",
    "mystr=\"Python is a super-cool language as compared to other languages\"\n",
    "maxlen = int(input(\"Enter maxlength: \"))\n",
    "print(\"List of words having length greater than {0} is {1}\".format(maxlen,filter_long_words(mystr.split(), maxlen)))"
   ]
  },
  {
   "cell_type": "code",
   "execution_count": 12,
   "metadata": {},
   "outputs": [
    {
     "name": "stdout",
     "output_type": "stream",
     "text": [
      "List of words passed is: ['Python', 'is', 'an', 'open-source', 'language', 'used', 'in', 'Web', 'development,', 'Data', 'Analytics', 'and', 'Machine', 'learning.']\n",
      "Corresponding list of integers representing length of words:  [6, 2, 2, 11, 8, 4, 2, 3, 12, 4, 9, 3, 7, 9]\n"
     ]
    }
   ],
   "source": [
    "'''\n",
    "2.1\n",
    "\n",
    "Write a Python program using function concept that maps list of words into a list of integers\n",
    "representing the lengths of the corresponding words .\n",
    "\n",
    "Hint: If a list [ ab,cde,erty] is passed on to the python function output should come as [2,3,4]\n",
    "Here 2,3 and 4 are the lengths of the words in the list.\n",
    "\n",
    "'''\n",
    "#Solution 2.1:\n",
    "\n",
    "def findlengthofwords(listofwords):\n",
    "    lstofintegers=[]\n",
    "    print(\"List of words passed is: {wordlist}\".format(wordlist=listofwords))\n",
    "    for i in listofwords:\n",
    "        lstofintegers.append(len(i))\n",
    "    \n",
    "    return lstofintegers    \n",
    "\n",
    "\n",
    "#calling function callengthofwords:\n",
    "mystr1=\"Python is an open-source language used in Web development, Data Analytics and Machine learning.\"\n",
    "print(\"Corresponding list of integers representing length of words: \",findlengthofwords(mystr1.split()))"
   ]
  },
  {
   "cell_type": "code",
   "execution_count": 14,
   "metadata": {},
   "outputs": [
    {
     "name": "stdout",
     "output_type": "stream",
     "text": [
      "Enter word to check for vowel: q\n",
      "Is q a vowel?: False\n",
      "False\n",
      "True\n",
      "False\n"
     ]
    }
   ],
   "source": [
    "'''\n",
    "2.2\n",
    "\n",
    "Write a Python function which takes a character (i.e. a string of length 1) and returns True if it is\n",
    "a vowel, False otherwise.\n",
    "\n",
    "'''\n",
    "#Solution 2.2\n",
    "\n",
    "def isVowel(word):\n",
    "    isitvowel=False\n",
    "    word=word.lower()\n",
    "    lengthofword = len(word)\n",
    "    vowel=['a','e','i','o','u']\n",
    "    if lengthofword == 1:\n",
    "        isitvowel= word in vowel\n",
    "    elif lengthofword > 1:\n",
    "        isitvowel = word[0] in vowel\n",
    "    return isitvowel\n",
    "\n",
    "#calling isvowel() function:\n",
    "value= input(\"Enter word to check for vowel: \")\n",
    "print(\"Is {0} a vowel?: {1}\".format(value, isVowel(value)))\n",
    "print(isVowel(\"P\"))\n",
    "print(isVowel(\"Opensource\"))\n",
    "print(isVowel('Web'))"
   ]
  },
  {
   "cell_type": "code",
   "execution_count": null,
   "metadata": {},
   "outputs": [],
   "source": []
  }
 ],
 "metadata": {
  "kernelspec": {
   "display_name": "Python 3",
   "language": "python",
   "name": "python3"
  },
  "language_info": {
   "codemirror_mode": {
    "name": "ipython",
    "version": 3
   },
   "file_extension": ".py",
   "mimetype": "text/x-python",
   "name": "python",
   "nbconvert_exporter": "python",
   "pygments_lexer": "ipython3",
   "version": "3.7.4"
  }
 },
 "nbformat": 4,
 "nbformat_minor": 2
}
